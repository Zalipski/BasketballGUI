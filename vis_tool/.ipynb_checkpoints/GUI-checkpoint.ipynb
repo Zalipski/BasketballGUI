{
 "cells": [
  {
   "cell_type": "markdown",
   "metadata": {},
   "source": [
    "# Imports"
   ]
  },
  {
   "cell_type": "code",
   "execution_count": 1,
   "metadata": {},
   "outputs": [
    {
     "name": "stderr",
     "output_type": "stream",
     "text": [
      "/Users/zalipski/opt/anaconda3/lib/python3.7/site-packages/statsmodels/tools/_testing.py:19: FutureWarning: pandas.util.testing is deprecated. Use the functions in the public API at pandas.testing instead.\n",
      "  import pandas.util.testing as tm\n",
      "/Users/zalipski/opt/anaconda3/lib/python3.7/site-packages/sklearn/linear_model/least_angle.py:30: DeprecationWarning: `np.float` is a deprecated alias for the builtin `float`. To silence this warning, use `float` by itself. Doing this will not modify any behavior and is safe. If you specifically wanted the numpy scalar type, use `np.float64` here.\n",
      "Deprecated in NumPy 1.20; for more details and guidance: https://numpy.org/devdocs/release/1.20.0-notes.html#deprecations\n",
      "  method='lar', copy_X=True, eps=np.finfo(np.float).eps,\n",
      "/Users/zalipski/opt/anaconda3/lib/python3.7/site-packages/sklearn/linear_model/least_angle.py:167: DeprecationWarning: `np.float` is a deprecated alias for the builtin `float`. To silence this warning, use `float` by itself. Doing this will not modify any behavior and is safe. If you specifically wanted the numpy scalar type, use `np.float64` here.\n",
      "Deprecated in NumPy 1.20; for more details and guidance: https://numpy.org/devdocs/release/1.20.0-notes.html#deprecations\n",
      "  method='lar', copy_X=True, eps=np.finfo(np.float).eps,\n",
      "/Users/zalipski/opt/anaconda3/lib/python3.7/site-packages/sklearn/linear_model/least_angle.py:284: DeprecationWarning: `np.float` is a deprecated alias for the builtin `float`. To silence this warning, use `float` by itself. Doing this will not modify any behavior and is safe. If you specifically wanted the numpy scalar type, use `np.float64` here.\n",
      "Deprecated in NumPy 1.20; for more details and guidance: https://numpy.org/devdocs/release/1.20.0-notes.html#deprecations\n",
      "  eps=np.finfo(np.float).eps, copy_Gram=True, verbose=0,\n",
      "/Users/zalipski/opt/anaconda3/lib/python3.7/site-packages/sklearn/linear_model/least_angle.py:862: DeprecationWarning: `np.float` is a deprecated alias for the builtin `float`. To silence this warning, use `float` by itself. Doing this will not modify any behavior and is safe. If you specifically wanted the numpy scalar type, use `np.float64` here.\n",
      "Deprecated in NumPy 1.20; for more details and guidance: https://numpy.org/devdocs/release/1.20.0-notes.html#deprecations\n",
      "  eps=np.finfo(np.float).eps, copy_X=True, fit_path=True,\n",
      "/Users/zalipski/opt/anaconda3/lib/python3.7/site-packages/sklearn/linear_model/least_angle.py:1101: DeprecationWarning: `np.float` is a deprecated alias for the builtin `float`. To silence this warning, use `float` by itself. Doing this will not modify any behavior and is safe. If you specifically wanted the numpy scalar type, use `np.float64` here.\n",
      "Deprecated in NumPy 1.20; for more details and guidance: https://numpy.org/devdocs/release/1.20.0-notes.html#deprecations\n",
      "  eps=np.finfo(np.float).eps, copy_X=True, fit_path=True,\n",
      "/Users/zalipski/opt/anaconda3/lib/python3.7/site-packages/sklearn/linear_model/least_angle.py:1127: DeprecationWarning: `np.float` is a deprecated alias for the builtin `float`. To silence this warning, use `float` by itself. Doing this will not modify any behavior and is safe. If you specifically wanted the numpy scalar type, use `np.float64` here.\n",
      "Deprecated in NumPy 1.20; for more details and guidance: https://numpy.org/devdocs/release/1.20.0-notes.html#deprecations\n",
      "  eps=np.finfo(np.float).eps, positive=False):\n",
      "/Users/zalipski/opt/anaconda3/lib/python3.7/site-packages/sklearn/linear_model/least_angle.py:1362: DeprecationWarning: `np.float` is a deprecated alias for the builtin `float`. To silence this warning, use `float` by itself. Doing this will not modify any behavior and is safe. If you specifically wanted the numpy scalar type, use `np.float64` here.\n",
      "Deprecated in NumPy 1.20; for more details and guidance: https://numpy.org/devdocs/release/1.20.0-notes.html#deprecations\n",
      "  max_n_alphas=1000, n_jobs=None, eps=np.finfo(np.float).eps,\n",
      "/Users/zalipski/opt/anaconda3/lib/python3.7/site-packages/sklearn/linear_model/least_angle.py:1602: DeprecationWarning: `np.float` is a deprecated alias for the builtin `float`. To silence this warning, use `float` by itself. Doing this will not modify any behavior and is safe. If you specifically wanted the numpy scalar type, use `np.float64` here.\n",
      "Deprecated in NumPy 1.20; for more details and guidance: https://numpy.org/devdocs/release/1.20.0-notes.html#deprecations\n",
      "  max_n_alphas=1000, n_jobs=None, eps=np.finfo(np.float).eps,\n",
      "/Users/zalipski/opt/anaconda3/lib/python3.7/site-packages/sklearn/linear_model/least_angle.py:1738: DeprecationWarning: `np.float` is a deprecated alias for the builtin `float`. To silence this warning, use `float` by itself. Doing this will not modify any behavior and is safe. If you specifically wanted the numpy scalar type, use `np.float64` here.\n",
      "Deprecated in NumPy 1.20; for more details and guidance: https://numpy.org/devdocs/release/1.20.0-notes.html#deprecations\n",
      "  eps=np.finfo(np.float).eps, copy_X=True, positive=False):\n",
      "/Users/zalipski/opt/anaconda3/lib/python3.7/site-packages/sklearn/decomposition/online_lda.py:29: DeprecationWarning: `np.float` is a deprecated alias for the builtin `float`. To silence this warning, use `float` by itself. Doing this will not modify any behavior and is safe. If you specifically wanted the numpy scalar type, use `np.float64` here.\n",
      "Deprecated in NumPy 1.20; for more details and guidance: https://numpy.org/devdocs/release/1.20.0-notes.html#deprecations\n",
      "  EPS = np.finfo(np.float).eps\n",
      "/Users/zalipski/opt/anaconda3/lib/python3.7/site-packages/sklearn/ensemble/gradient_boosting.py:32: DeprecationWarning: `np.bool` is a deprecated alias for the builtin `bool`. To silence this warning, use `bool` by itself. Doing this will not modify any behavior and is safe. If you specifically wanted the numpy scalar type, use `np.bool_` here.\n",
      "Deprecated in NumPy 1.20; for more details and guidance: https://numpy.org/devdocs/release/1.20.0-notes.html#deprecations\n",
      "  from ._gradient_boosting import predict_stages\n",
      "/Users/zalipski/opt/anaconda3/lib/python3.7/site-packages/sklearn/ensemble/gradient_boosting.py:32: DeprecationWarning: `np.bool` is a deprecated alias for the builtin `bool`. To silence this warning, use `bool` by itself. Doing this will not modify any behavior and is safe. If you specifically wanted the numpy scalar type, use `np.bool_` here.\n",
      "Deprecated in NumPy 1.20; for more details and guidance: https://numpy.org/devdocs/release/1.20.0-notes.html#deprecations\n",
      "  from ._gradient_boosting import predict_stages\n"
     ]
    }
   ],
   "source": [
    "#standard imports\n",
    "import pandas as pd\n",
    "from matplotlib import pyplot as plt\n",
    "import statsmodels.api as sm\n",
    "from sklearn.ensemble import RandomForestRegressor\n",
    "import numpy as np\n",
    "\n",
    "#GUI imports\n",
    "from tkinter import *\n",
    "from tkinter.filedialog import askopenfilename\n",
    "from PIL import Image, ImageTk\n",
    "import tkinter.simpledialog"
   ]
  },
  {
   "cell_type": "markdown",
   "metadata": {},
   "source": [
    "# Data"
   ]
  },
  {
   "cell_type": "code",
   "execution_count": 5,
   "metadata": {},
   "outputs": [],
   "source": [
    "#read in data as csv file\n",
    "#year 2013\n",
    "joined13 = pd.read_csv(\"Data/joined_shots_2013.csv\")\n",
    "\n",
    "#year 2014\n",
    "joined14 = pd.read_csv(\"Data/joined_shots_2014.csv\")\n",
    "\n",
    "#put both joined csv files together\n",
    "joined = pd.concat([joined13, joined14], ignore_index = True)"
   ]
  },
  {
   "cell_type": "code",
   "execution_count": 6,
   "metadata": {},
   "outputs": [
    {
     "data": {
      "text/plain": [
       "Index(['Unnamed: 0', 'CLOSEST_DEFENDER', 'CLOSEST_DEFENDER_PLAYER_ID',\n",
       "       'CLOSE_DEF_DIST', 'DRIBBLES', 'FGM', 'FINAL_MARGIN', 'GAME_CLOCK',\n",
       "       'GAME_ID', 'GAME_ID.1', 'LOCATION', 'MATCHUP', 'PERIOD', 'PERIOD.1',\n",
       "       'PTS', 'PTS_TYPE', 'SHOT_CLOCK', 'SHOT_DIST', 'SHOT_NUMBER',\n",
       "       'SHOT_RESULT', 'TOUCH_TIME', 'W', 'GRID_TYPE', 'GAME_EVENT_ID',\n",
       "       'PLAYER_ID', 'PLAYER_ID.1', 'PLAYER_NAME', 'TEAM_ID',\n",
       "       'MINUTES_REMAINING', 'SECONDS_REMAINING', 'EVENT_TYPE', 'ACTION_TYPE',\n",
       "       'SHOT_TYPE', 'SHOT_ZONE_BASIC', 'SHOT_ZONE_AREA', 'SHOT_ZONE_RANGE',\n",
       "       'SHOT_DISTANCE', 'LOC_X', 'LOC_Y', 'SHOT_ATTEMPTED_FLAG',\n",
       "       'SHOT_MADE_FLAG'],\n",
       "      dtype='object')"
      ]
     },
     "execution_count": 6,
     "metadata": {},
     "output_type": "execute_result"
    }
   ],
   "source": [
    "#all available columns\n",
    "joined.columns"
   ]
  },
  {
   "cell_type": "code",
   "execution_count": 7,
   "metadata": {},
   "outputs": [
    {
     "data": {
      "text/plain": [
       "576"
      ]
     },
     "execution_count": 7,
     "metadata": {},
     "output_type": "execute_result"
    }
   ],
   "source": [
    "#number of different players in the dataset\n",
    "joined.PLAYER_ID.nunique()"
   ]
  },
  {
   "cell_type": "code",
   "execution_count": 8,
   "metadata": {},
   "outputs": [
    {
     "data": {
      "text/html": [
       "<div>\n",
       "<style scoped>\n",
       "    .dataframe tbody tr th:only-of-type {\n",
       "        vertical-align: middle;\n",
       "    }\n",
       "\n",
       "    .dataframe tbody tr th {\n",
       "        vertical-align: top;\n",
       "    }\n",
       "\n",
       "    .dataframe thead th {\n",
       "        text-align: right;\n",
       "    }\n",
       "</style>\n",
       "<table border=\"1\" class=\"dataframe\">\n",
       "  <thead>\n",
       "    <tr style=\"text-align: right;\">\n",
       "      <th></th>\n",
       "      <th>Unnamed: 0</th>\n",
       "      <th>CLOSEST_DEFENDER</th>\n",
       "      <th>CLOSEST_DEFENDER_PLAYER_ID</th>\n",
       "      <th>CLOSE_DEF_DIST</th>\n",
       "      <th>DRIBBLES</th>\n",
       "      <th>FGM</th>\n",
       "      <th>FINAL_MARGIN</th>\n",
       "      <th>GAME_CLOCK</th>\n",
       "      <th>GAME_ID</th>\n",
       "      <th>GAME_ID.1</th>\n",
       "      <th>...</th>\n",
       "      <th>ACTION_TYPE</th>\n",
       "      <th>SHOT_TYPE</th>\n",
       "      <th>SHOT_ZONE_BASIC</th>\n",
       "      <th>SHOT_ZONE_AREA</th>\n",
       "      <th>SHOT_ZONE_RANGE</th>\n",
       "      <th>SHOT_DISTANCE</th>\n",
       "      <th>LOC_X</th>\n",
       "      <th>LOC_Y</th>\n",
       "      <th>SHOT_ATTEMPTED_FLAG</th>\n",
       "      <th>SHOT_MADE_FLAG</th>\n",
       "    </tr>\n",
       "  </thead>\n",
       "  <tbody>\n",
       "    <tr>\n",
       "      <th>0</th>\n",
       "      <td>0</td>\n",
       "      <td>Turner, Evan</td>\n",
       "      <td>202323.0</td>\n",
       "      <td>1.9</td>\n",
       "      <td>17.0</td>\n",
       "      <td>0.0</td>\n",
       "      <td>10.0</td>\n",
       "      <td>8:09</td>\n",
       "      <td>21300165</td>\n",
       "      <td>21300165</td>\n",
       "      <td>...</td>\n",
       "      <td>Jump Shot</td>\n",
       "      <td>2PT Field Goal</td>\n",
       "      <td>In The Paint (Non-RA)</td>\n",
       "      <td>Center(C)</td>\n",
       "      <td>Less Than 8 ft.</td>\n",
       "      <td>6.0</td>\n",
       "      <td>-40.0</td>\n",
       "      <td>53.0</td>\n",
       "      <td>1.0</td>\n",
       "      <td>0.0</td>\n",
       "    </tr>\n",
       "    <tr>\n",
       "      <th>1</th>\n",
       "      <td>1</td>\n",
       "      <td>Turner, Evan</td>\n",
       "      <td>202323.0</td>\n",
       "      <td>3.2</td>\n",
       "      <td>0.0</td>\n",
       "      <td>1.0</td>\n",
       "      <td>10.0</td>\n",
       "      <td>9:10</td>\n",
       "      <td>21300165</td>\n",
       "      <td>21300165</td>\n",
       "      <td>...</td>\n",
       "      <td>Jump Shot</td>\n",
       "      <td>3PT Field Goal</td>\n",
       "      <td>Above the Break 3</td>\n",
       "      <td>Right Side Center(RC)</td>\n",
       "      <td>24+ ft.</td>\n",
       "      <td>26.0</td>\n",
       "      <td>182.0</td>\n",
       "      <td>195.0</td>\n",
       "      <td>1.0</td>\n",
       "      <td>1.0</td>\n",
       "    </tr>\n",
       "    <tr>\n",
       "      <th>2</th>\n",
       "      <td>2</td>\n",
       "      <td>Carter-Williams, Michael</td>\n",
       "      <td>203487.0</td>\n",
       "      <td>3.5</td>\n",
       "      <td>0.0</td>\n",
       "      <td>0.0</td>\n",
       "      <td>10.0</td>\n",
       "      <td>8:36</td>\n",
       "      <td>21300165</td>\n",
       "      <td>21300165</td>\n",
       "      <td>...</td>\n",
       "      <td>Jump Shot</td>\n",
       "      <td>3PT Field Goal</td>\n",
       "      <td>Above the Break 3</td>\n",
       "      <td>Right Side Center(RC)</td>\n",
       "      <td>24+ ft.</td>\n",
       "      <td>26.0</td>\n",
       "      <td>159.0</td>\n",
       "      <td>206.0</td>\n",
       "      <td>1.0</td>\n",
       "      <td>0.0</td>\n",
       "    </tr>\n",
       "    <tr>\n",
       "      <th>3</th>\n",
       "      <td>3</td>\n",
       "      <td>Brown, Lorenzo</td>\n",
       "      <td>203485.0</td>\n",
       "      <td>3.6</td>\n",
       "      <td>19.0</td>\n",
       "      <td>0.0</td>\n",
       "      <td>10.0</td>\n",
       "      <td>0:23</td>\n",
       "      <td>21300165</td>\n",
       "      <td>21300165</td>\n",
       "      <td>...</td>\n",
       "      <td>Jump Shot</td>\n",
       "      <td>3PT Field Goal</td>\n",
       "      <td>Above the Break 3</td>\n",
       "      <td>Center(C)</td>\n",
       "      <td>24+ ft.</td>\n",
       "      <td>27.0</td>\n",
       "      <td>-15.0</td>\n",
       "      <td>274.0</td>\n",
       "      <td>1.0</td>\n",
       "      <td>0.0</td>\n",
       "    </tr>\n",
       "    <tr>\n",
       "      <th>4</th>\n",
       "      <td>0</td>\n",
       "      <td>Cole, Norris</td>\n",
       "      <td>202708.0</td>\n",
       "      <td>3.7</td>\n",
       "      <td>0.0</td>\n",
       "      <td>1.0</td>\n",
       "      <td>-7.0</td>\n",
       "      <td>11:43</td>\n",
       "      <td>21300230</td>\n",
       "      <td>21300230</td>\n",
       "      <td>...</td>\n",
       "      <td>Jump Shot</td>\n",
       "      <td>3PT Field Goal</td>\n",
       "      <td>Above the Break 3</td>\n",
       "      <td>Left Side Center(LC)</td>\n",
       "      <td>24+ ft.</td>\n",
       "      <td>24.0</td>\n",
       "      <td>-149.0</td>\n",
       "      <td>198.0</td>\n",
       "      <td>1.0</td>\n",
       "      <td>1.0</td>\n",
       "    </tr>\n",
       "    <tr>\n",
       "      <th>5</th>\n",
       "      <td>1</td>\n",
       "      <td>Andersen, Chris</td>\n",
       "      <td>2365.0</td>\n",
       "      <td>1.6</td>\n",
       "      <td>13.0</td>\n",
       "      <td>0.0</td>\n",
       "      <td>-7.0</td>\n",
       "      <td>9:36</td>\n",
       "      <td>21300230</td>\n",
       "      <td>21300230</td>\n",
       "      <td>...</td>\n",
       "      <td>Jump Shot</td>\n",
       "      <td>2PT Field Goal</td>\n",
       "      <td>Mid-Range</td>\n",
       "      <td>Left Side(L)</td>\n",
       "      <td>8-16 ft.</td>\n",
       "      <td>9.0</td>\n",
       "      <td>-98.0</td>\n",
       "      <td>4.0</td>\n",
       "      <td>1.0</td>\n",
       "      <td>0.0</td>\n",
       "    </tr>\n",
       "    <tr>\n",
       "      <th>6</th>\n",
       "      <td>2</td>\n",
       "      <td>Cole, Norris</td>\n",
       "      <td>202708.0</td>\n",
       "      <td>2.4</td>\n",
       "      <td>5.0</td>\n",
       "      <td>0.0</td>\n",
       "      <td>-7.0</td>\n",
       "      <td>8:21</td>\n",
       "      <td>21300230</td>\n",
       "      <td>21300230</td>\n",
       "      <td>...</td>\n",
       "      <td>Jump Shot</td>\n",
       "      <td>3PT Field Goal</td>\n",
       "      <td>Above the Break 3</td>\n",
       "      <td>Left Side Center(LC)</td>\n",
       "      <td>24+ ft.</td>\n",
       "      <td>28.0</td>\n",
       "      <td>-100.0</td>\n",
       "      <td>268.0</td>\n",
       "      <td>1.0</td>\n",
       "      <td>0.0</td>\n",
       "    </tr>\n",
       "    <tr>\n",
       "      <th>7</th>\n",
       "      <td>0</td>\n",
       "      <td>Jones, Terrence</td>\n",
       "      <td>203093.0</td>\n",
       "      <td>3.4</td>\n",
       "      <td>6.0</td>\n",
       "      <td>0.0</td>\n",
       "      <td>-6.0</td>\n",
       "      <td>10:48</td>\n",
       "      <td>21300103</td>\n",
       "      <td>21300103</td>\n",
       "      <td>...</td>\n",
       "      <td>Jump Shot</td>\n",
       "      <td>2PT Field Goal</td>\n",
       "      <td>Restricted Area</td>\n",
       "      <td>Center(C)</td>\n",
       "      <td>Less Than 8 ft.</td>\n",
       "      <td>3.0</td>\n",
       "      <td>2.0</td>\n",
       "      <td>30.0</td>\n",
       "      <td>1.0</td>\n",
       "      <td>0.0</td>\n",
       "    </tr>\n",
       "    <tr>\n",
       "      <th>8</th>\n",
       "      <td>1</td>\n",
       "      <td>Lin, Jeremy</td>\n",
       "      <td>202391.0</td>\n",
       "      <td>2.4</td>\n",
       "      <td>8.0</td>\n",
       "      <td>0.0</td>\n",
       "      <td>-6.0</td>\n",
       "      <td>10:30</td>\n",
       "      <td>21300103</td>\n",
       "      <td>21300103</td>\n",
       "      <td>...</td>\n",
       "      <td>Jump Shot</td>\n",
       "      <td>2PT Field Goal</td>\n",
       "      <td>Mid-Range</td>\n",
       "      <td>Right Side Center(RC)</td>\n",
       "      <td>16-24 ft.</td>\n",
       "      <td>21.0</td>\n",
       "      <td>145.0</td>\n",
       "      <td>163.0</td>\n",
       "      <td>1.0</td>\n",
       "      <td>0.0</td>\n",
       "    </tr>\n",
       "    <tr>\n",
       "      <th>9</th>\n",
       "      <td>2</td>\n",
       "      <td>Beverley, Patrick</td>\n",
       "      <td>201976.0</td>\n",
       "      <td>3.5</td>\n",
       "      <td>2.0</td>\n",
       "      <td>1.0</td>\n",
       "      <td>-6.0</td>\n",
       "      <td>8:26</td>\n",
       "      <td>21300103</td>\n",
       "      <td>21300103</td>\n",
       "      <td>...</td>\n",
       "      <td>Pullup Jump shot</td>\n",
       "      <td>2PT Field Goal</td>\n",
       "      <td>Mid-Range</td>\n",
       "      <td>Left Side Center(LC)</td>\n",
       "      <td>16-24 ft.</td>\n",
       "      <td>18.0</td>\n",
       "      <td>-97.0</td>\n",
       "      <td>153.0</td>\n",
       "      <td>1.0</td>\n",
       "      <td>1.0</td>\n",
       "    </tr>\n",
       "  </tbody>\n",
       "</table>\n",
       "<p>10 rows × 41 columns</p>\n",
       "</div>"
      ],
      "text/plain": [
       "   Unnamed: 0          CLOSEST_DEFENDER  CLOSEST_DEFENDER_PLAYER_ID  \\\n",
       "0           0              Turner, Evan                    202323.0   \n",
       "1           1              Turner, Evan                    202323.0   \n",
       "2           2  Carter-Williams, Michael                    203487.0   \n",
       "3           3            Brown, Lorenzo                    203485.0   \n",
       "4           0              Cole, Norris                    202708.0   \n",
       "5           1           Andersen, Chris                      2365.0   \n",
       "6           2              Cole, Norris                    202708.0   \n",
       "7           0           Jones, Terrence                    203093.0   \n",
       "8           1               Lin, Jeremy                    202391.0   \n",
       "9           2         Beverley, Patrick                    201976.0   \n",
       "\n",
       "   CLOSE_DEF_DIST  DRIBBLES  FGM  FINAL_MARGIN GAME_CLOCK   GAME_ID  \\\n",
       "0             1.9      17.0  0.0          10.0       8:09  21300165   \n",
       "1             3.2       0.0  1.0          10.0       9:10  21300165   \n",
       "2             3.5       0.0  0.0          10.0       8:36  21300165   \n",
       "3             3.6      19.0  0.0          10.0       0:23  21300165   \n",
       "4             3.7       0.0  1.0          -7.0      11:43  21300230   \n",
       "5             1.6      13.0  0.0          -7.0       9:36  21300230   \n",
       "6             2.4       5.0  0.0          -7.0       8:21  21300230   \n",
       "7             3.4       6.0  0.0          -6.0      10:48  21300103   \n",
       "8             2.4       8.0  0.0          -6.0      10:30  21300103   \n",
       "9             3.5       2.0  1.0          -6.0       8:26  21300103   \n",
       "\n",
       "   GAME_ID.1  ...       ACTION_TYPE       SHOT_TYPE        SHOT_ZONE_BASIC  \\\n",
       "0   21300165  ...         Jump Shot  2PT Field Goal  In The Paint (Non-RA)   \n",
       "1   21300165  ...         Jump Shot  3PT Field Goal      Above the Break 3   \n",
       "2   21300165  ...         Jump Shot  3PT Field Goal      Above the Break 3   \n",
       "3   21300165  ...         Jump Shot  3PT Field Goal      Above the Break 3   \n",
       "4   21300230  ...         Jump Shot  3PT Field Goal      Above the Break 3   \n",
       "5   21300230  ...         Jump Shot  2PT Field Goal              Mid-Range   \n",
       "6   21300230  ...         Jump Shot  3PT Field Goal      Above the Break 3   \n",
       "7   21300103  ...         Jump Shot  2PT Field Goal        Restricted Area   \n",
       "8   21300103  ...         Jump Shot  2PT Field Goal              Mid-Range   \n",
       "9   21300103  ...  Pullup Jump shot  2PT Field Goal              Mid-Range   \n",
       "\n",
       "          SHOT_ZONE_AREA  SHOT_ZONE_RANGE  SHOT_DISTANCE  LOC_X  LOC_Y  \\\n",
       "0              Center(C)  Less Than 8 ft.            6.0  -40.0   53.0   \n",
       "1  Right Side Center(RC)          24+ ft.           26.0  182.0  195.0   \n",
       "2  Right Side Center(RC)          24+ ft.           26.0  159.0  206.0   \n",
       "3              Center(C)          24+ ft.           27.0  -15.0  274.0   \n",
       "4   Left Side Center(LC)          24+ ft.           24.0 -149.0  198.0   \n",
       "5           Left Side(L)         8-16 ft.            9.0  -98.0    4.0   \n",
       "6   Left Side Center(LC)          24+ ft.           28.0 -100.0  268.0   \n",
       "7              Center(C)  Less Than 8 ft.            3.0    2.0   30.0   \n",
       "8  Right Side Center(RC)        16-24 ft.           21.0  145.0  163.0   \n",
       "9   Left Side Center(LC)        16-24 ft.           18.0  -97.0  153.0   \n",
       "\n",
       "   SHOT_ATTEMPTED_FLAG SHOT_MADE_FLAG  \n",
       "0                  1.0            0.0  \n",
       "1                  1.0            1.0  \n",
       "2                  1.0            0.0  \n",
       "3                  1.0            0.0  \n",
       "4                  1.0            1.0  \n",
       "5                  1.0            0.0  \n",
       "6                  1.0            0.0  \n",
       "7                  1.0            0.0  \n",
       "8                  1.0            0.0  \n",
       "9                  1.0            1.0  \n",
       "\n",
       "[10 rows x 41 columns]"
      ]
     },
     "execution_count": 8,
     "metadata": {},
     "output_type": "execute_result"
    }
   ],
   "source": [
    "joined.head(10)"
   ]
  },
  {
   "cell_type": "markdown",
   "metadata": {},
   "source": [
    "## Visualizations"
   ]
  },
  {
   "cell_type": "code",
   "execution_count": 9,
   "metadata": {
    "scrolled": false
   },
   "outputs": [
    {
     "data": {
      "text/plain": [
       "Text(0.5, 1, 'Histogram of distance of closest defender when shot was made')"
      ]
     },
     "execution_count": 9,
     "metadata": {},
     "output_type": "execute_result"
    },
    {
     "data": {
      "image/png": "[encoded data removed]",
      "text/plain": [
       "<Figure size 432x288 with 8 Axes>"
      ]
     },
     "metadata": {
      "needs_background": "light"
     },
     "output_type": "display_data"
    }
   ],
   "source": [
    "#visualize distributions of shot distance (when shot was successful)\n",
    "#and distance of the closest defender (when shot was successful)\n",
    "figure, axis = plt.subplots(2, 4)\n",
    "figure.tight_layout()\n",
    "\n",
    "axis[0, 0].boxplot(joined[\"SHOT_DISTANCE\"])\n",
    "axis[0, 0].set_title(\"Boxplot of shot distance\")\n",
    "\n",
    "axis[1, 0].hist(joined[\"SHOT_DISTANCE\"])\n",
    "axis[1, 0].set_title(\"Histogram of shot distance\")\n",
    "\n",
    "axis[0, 1].boxplot(joined[joined[\"SHOT_MADE_FLAG\"] == 1][\"SHOT_DISTANCE\"])\n",
    "axis[0, 1].set_title(\"Boxplot of distance of made shots\")\n",
    "\n",
    "axis[1, 1].hist(joined[joined[\"SHOT_MADE_FLAG\"] == 1][\"SHOT_DISTANCE\"])\n",
    "axis[1, 1].set_title(\"Histogram of distance of made shots\")\n",
    "\n",
    "axis[0, 2].boxplot(joined[\"CLOSE_DEF_DIST\"])\n",
    "axis[0, 2].set_title(\"Boxplot of distance of closest defender\")\n",
    "\n",
    "axis[1, 2].hist(joined[\"CLOSE_DEF_DIST\"])\n",
    "axis[1, 2].set_title(\"Histogram of distance of closest defender\")\n",
    "\n",
    "axis[0, 3].boxplot(joined[joined[\"SHOT_MADE_FLAG\"] == 1][\"CLOSE_DEF_DIST\"])\n",
    "axis[0, 3].set_title(\"Boxplot of distance of closest defender when shot was made\")\n",
    "\n",
    "axis[1, 3].hist(joined[joined[\"SHOT_MADE_FLAG\"] == 1][\"CLOSE_DEF_DIST\"])\n",
    "axis[1, 3].set_title(\"Histogram of distance of closest defender when shot was made\")"
   ]
  },
  {
   "cell_type": "markdown",
   "metadata": {},
   "source": [
    "## Player dictionary"
   ]
  },
  {
   "cell_type": "code",
   "execution_count": 10,
   "metadata": {
    "scrolled": true
   },
   "outputs": [],
   "source": [
    "#create a dict that maps the player to his correct ID\n",
    "player_dict = {}\n",
    "\n",
    "for i in range(len(joined)):\n",
    "    if joined[\"PLAYER_ID\"][i] in player_dict:\n",
    "        pass\n",
    "    else:\n",
    "        player_dict[joined[\"PLAYER_ID\"][i]] = joined[\"PLAYER_NAME\"][i]"
   ]
  },
  {
   "cell_type": "code",
   "execution_count": 11,
   "metadata": {},
   "outputs": [],
   "source": [
    "key_list = list(player_dict.keys())\n",
    "val_list = list(player_dict.values())\n",
    "\n",
    "def player_id(player):\n",
    "    \"\"\"\n",
    "    Returns the correct ID for the chosen player.\n",
    "\n",
    "            Parameters:\n",
    "                    player (str)    : name of the player\n",
    "\n",
    "            Returns:\n",
    "                    player_id (int) : ID of the player\n",
    "    \"\"\"\n",
    "    \n",
    "    position = val_list.index(player)\n",
    "    player_id = key_list[position]\n",
    "    return player_id"
   ]
  },
  {
   "cell_type": "markdown",
   "metadata": {},
   "source": [
    "# Regression"
   ]
  },
  {
   "cell_type": "markdown",
   "metadata": {},
   "source": [
    "## Simple Linear Regression"
   ]
  },
  {
   "cell_type": "code",
   "execution_count": 9,
   "metadata": {},
   "outputs": [],
   "source": [
    "x = joined[[\"SHOT_DISTANCE\", \"PLAYER_ID\"]]\n",
    "y = joined[\"SHOT_MADE_FLAG\"]"
   ]
  },
  {
   "cell_type": "code",
   "execution_count": 10,
   "metadata": {},
   "outputs": [
    {
     "name": "stderr",
     "output_type": "stream",
     "text": [
      "/Users/zalipski/opt/anaconda3/lib/python3.7/site-packages/statsmodels/tsa/tsatools.py:117: FutureWarning: In a future version of pandas all arguments of concat except for the argument 'objs' will be keyword-only\n",
      "  x = pd.concat(x[::order], 1)\n"
     ]
    },
    {
     "data": {
      "text/html": [
       "<table class=\"simpletable\">\n",
       "<caption>OLS Regression Results</caption>\n",
       "<tr>\n",
       "  <th>Dep. Variable:</th>     <td>SHOT_MADE_FLAG</td>  <th>  R-squared:         </th>  <td>   0.039</td>  \n",
       "</tr>\n",
       "<tr>\n",
       "  <th>Model:</th>                   <td>OLS</td>       <th>  Adj. R-squared:    </th>  <td>   0.039</td>  \n",
       "</tr>\n",
       "<tr>\n",
       "  <th>Method:</th>             <td>Least Squares</td>  <th>  F-statistic:       </th>  <td>   8077.</td>  \n",
       "</tr>\n",
       "<tr>\n",
       "  <th>Date:</th>             <td>Wed, 30 Mar 2022</td> <th>  Prob (F-statistic):</th>   <td>  0.00</td>   \n",
       "</tr>\n",
       "<tr>\n",
       "  <th>Time:</th>                 <td>13:25:57</td>     <th>  Log-Likelihood:    </th> <td>-2.8162e+05</td>\n",
       "</tr>\n",
       "<tr>\n",
       "  <th>No. Observations:</th>      <td>401495</td>      <th>  AIC:               </th>  <td>5.632e+05</td> \n",
       "</tr>\n",
       "<tr>\n",
       "  <th>Df Residuals:</th>          <td>401492</td>      <th>  BIC:               </th>  <td>5.633e+05</td> \n",
       "</tr>\n",
       "<tr>\n",
       "  <th>Df Model:</th>              <td>     2</td>      <th>                     </th>      <td> </td>     \n",
       "</tr>\n",
       "<tr>\n",
       "  <th>Covariance Type:</th>      <td>nonrobust</td>    <th>                     </th>      <td> </td>     \n",
       "</tr>\n",
       "</table>\n",
       "<table class=\"simpletable\">\n",
       "<tr>\n",
       "        <td></td>           <th>coef</th>     <th>std err</th>      <th>t</th>      <th>P>|t|</th>  <th>[0.025</th>    <th>0.975]</th>  \n",
       "</tr>\n",
       "<tr>\n",
       "  <th>const</th>         <td>    0.5877</td> <td>    0.002</td> <td>  301.693</td> <td> 0.000</td> <td>    0.584</td> <td>    0.592</td>\n",
       "</tr>\n",
       "<tr>\n",
       "  <th>SHOT_DISTANCE</th> <td>   -0.0099</td> <td>  7.8e-05</td> <td> -127.001</td> <td> 0.000</td> <td>   -0.010</td> <td>   -0.010</td>\n",
       "</tr>\n",
       "<tr>\n",
       "  <th>PLAYER_ID</th>     <td>-8.677e-08</td> <td> 9.55e-09</td> <td>   -9.089</td> <td> 0.000</td> <td>-1.05e-07</td> <td>-6.81e-08</td>\n",
       "</tr>\n",
       "</table>\n",
       "<table class=\"simpletable\">\n",
       "<tr>\n",
       "  <th>Omnibus:</th>       <td>1553190.140</td> <th>  Durbin-Watson:     </th> <td>   1.996</td> \n",
       "</tr>\n",
       "<tr>\n",
       "  <th>Prob(Omnibus):</th>   <td> 0.000</td>    <th>  Jarque-Bera (JB):  </th> <td>57200.551</td>\n",
       "</tr>\n",
       "<tr>\n",
       "  <th>Skew:</th>            <td> 0.184</td>    <th>  Prob(JB):          </th> <td>    0.00</td> \n",
       "</tr>\n",
       "<tr>\n",
       "  <th>Kurtosis:</th>        <td> 1.188</td>    <th>  Cond. No.          </th> <td>4.42e+05</td> \n",
       "</tr>\n",
       "</table><br/><br/>Warnings:<br/>[1] Standard Errors assume that the covariance matrix of the errors is correctly specified.<br/>[2] The condition number is large, 4.42e+05. This might indicate that there are<br/>strong multicollinearity or other numerical problems."
      ],
      "text/plain": [
       "<class 'statsmodels.iolib.summary.Summary'>\n",
       "\"\"\"\n",
       "                            OLS Regression Results                            \n",
       "==============================================================================\n",
       "Dep. Variable:         SHOT_MADE_FLAG   R-squared:                       0.039\n",
       "Model:                            OLS   Adj. R-squared:                  0.039\n",
       "Method:                 Least Squares   F-statistic:                     8077.\n",
       "Date:                Wed, 30 Mar 2022   Prob (F-statistic):               0.00\n",
       "Time:                        13:25:57   Log-Likelihood:            -2.8162e+05\n",
       "No. Observations:              401495   AIC:                         5.632e+05\n",
       "Df Residuals:                  401492   BIC:                         5.633e+05\n",
       "Df Model:                           2                                         \n",
       "Covariance Type:            nonrobust                                         \n",
       "=================================================================================\n",
       "                    coef    std err          t      P>|t|      [0.025      0.975]\n",
       "---------------------------------------------------------------------------------\n",
       "const             0.5877      0.002    301.693      0.000       0.584       0.592\n",
       "SHOT_DISTANCE    -0.0099    7.8e-05   -127.001      0.000      -0.010      -0.010\n",
       "PLAYER_ID     -8.677e-08   9.55e-09     -9.089      0.000   -1.05e-07   -6.81e-08\n",
       "==============================================================================\n",
       "Omnibus:                  1553190.140   Durbin-Watson:                   1.996\n",
       "Prob(Omnibus):                  0.000   Jarque-Bera (JB):            57200.551\n",
       "Skew:                           0.184   Prob(JB):                         0.00\n",
       "Kurtosis:                       1.188   Cond. No.                     4.42e+05\n",
       "==============================================================================\n",
       "\n",
       "Warnings:\n",
       "[1] Standard Errors assume that the covariance matrix of the errors is correctly specified.\n",
       "[2] The condition number is large, 4.42e+05. This might indicate that there are\n",
       "strong multicollinearity or other numerical problems.\n",
       "\"\"\""
      ]
     },
     "execution_count": 10,
     "metadata": {},
     "output_type": "execute_result"
    }
   ],
   "source": [
    "#create a simple linear regression model and show its summary\n",
    "X = sm.add_constant(x)\n",
    "results = sm.OLS(y, X).fit()\n",
    "results.summary()"
   ]
  },
  {
   "cell_type": "markdown",
   "metadata": {},
   "source": [
    "## Random Forest"
   ]
  },
  {
   "cell_type": "code",
   "execution_count": 11,
   "metadata": {},
   "outputs": [
    {
     "name": "stderr",
     "output_type": "stream",
     "text": [
      "/Users/zalipski/opt/anaconda3/lib/python3.7/site-packages/sklearn/ensemble/base.py:158: DeprecationWarning: `np.int` is a deprecated alias for the builtin `int`. To silence this warning, use `int` by itself. Doing this will not modify any behavior and is safe. When replacing `np.int`, you may wish to use e.g. `np.int64` or `np.int32` to specify the precision. If you wish to review your current use, check the release note link for additional information.\n",
      "Deprecated in NumPy 1.20; for more details and guidance: https://numpy.org/devdocs/release/1.20.0-notes.html#deprecations\n",
      "  dtype=np.int)\n"
     ]
    },
    {
     "data": {
      "text/plain": [
       "0.10630293389093703"
      ]
     },
     "execution_count": 11,
     "metadata": {},
     "output_type": "execute_result"
    }
   ],
   "source": [
    "X_rf = joined[[\"SHOT_DISTANCE\", \"PLAYER_ID\"]]\n",
    "y_rf = joined[\"SHOT_MADE_FLAG\"]\n",
    "\n",
    "#create a random forest model and print its r-squared value\n",
    "regressor = RandomForestRegressor(n_estimators = 10, random_state = 0)\n",
    "randFor = regressor.fit(X_rf, y_rf)\n",
    "randFor.score(X_rf, y_rf)"
   ]
  },
  {
   "cell_type": "code",
   "execution_count": 12,
   "metadata": {},
   "outputs": [],
   "source": [
    "def shot_prediction(player, shot_distance):\n",
    "    \"\"\"\n",
    "    Predicts the probability of a successful shot.\n",
    "\n",
    "            Parameters:\n",
    "                    player (str)          : name of the player\n",
    "                    shot_distance (int)   : distance of the shot in ft\n",
    "\n",
    "            Returns:\n",
    "                    pred_percentage (int) : probability of a successful shot\n",
    "    \"\"\"\n",
    "    \n",
    "    prediction = regressor.predict([[shot_distance, player_id(player)]])[0]\n",
    "    pred_percentage = round(prediction, 3) * 100\n",
    "    return pred_percentage"
   ]
  },
  {
   "cell_type": "code",
   "execution_count": 13,
   "metadata": {},
   "outputs": [
    {
     "name": "stderr",
     "output_type": "stream",
     "text": [
      "/Users/zalipski/opt/anaconda3/lib/python3.7/site-packages/sklearn/ensemble/base.py:158: DeprecationWarning: `np.int` is a deprecated alias for the builtin `int`. To silence this warning, use `int` by itself. Doing this will not modify any behavior and is safe. When replacing `np.int`, you may wish to use e.g. `np.int64` or `np.int32` to specify the precision. If you wish to review your current use, check the release note link for additional information.\n",
      "Deprecated in NumPy 1.20; for more details and guidance: https://numpy.org/devdocs/release/1.20.0-notes.html#deprecations\n",
      "  dtype=np.int)\n"
     ]
    },
    {
     "data": {
      "text/plain": [
       "44.4"
      ]
     },
     "execution_count": 13,
     "metadata": {},
     "output_type": "execute_result"
    }
   ],
   "source": [
    "shot_prediction(\"Kobe Bryant\", 15)"
   ]
  },
  {
   "cell_type": "markdown",
   "metadata": {},
   "source": [
    "# GUI"
   ]
  },
  {
   "cell_type": "markdown",
   "metadata": {},
   "source": [
    "## Design of the GUI"
   ]
  },
  {
   "cell_type": "code",
   "execution_count": 14,
   "metadata": {},
   "outputs": [
    {
     "name": "stdout",
     "output_type": "stream",
     "text": [
      "315 279\n",
      "489 375\n",
      "629 305\n"
     ]
    },
    {
     "name": "stderr",
     "output_type": "stream",
     "text": [
      "/Users/zalipski/opt/anaconda3/lib/python3.7/site-packages/sklearn/ensemble/base.py:158: DeprecationWarning: `np.int` is a deprecated alias for the builtin `int`. To silence this warning, use `int` by itself. Doing this will not modify any behavior and is safe. When replacing `np.int`, you may wish to use e.g. `np.int64` or `np.int32` to specify the precision. If you wish to review your current use, check the release note link for additional information.\n",
      "Deprecated in NumPy 1.20; for more details and guidance: https://numpy.org/devdocs/release/1.20.0-notes.html#deprecations\n",
      "  dtype=np.int)\n"
     ]
    },
    {
     "name": "stdout",
     "output_type": "stream",
     "text": [
      "38.6\n"
     ]
    },
    {
     "name": "stderr",
     "output_type": "stream",
     "text": [
      "/Users/zalipski/opt/anaconda3/lib/python3.7/site-packages/sklearn/ensemble/base.py:158: DeprecationWarning: `np.int` is a deprecated alias for the builtin `int`. To silence this warning, use `int` by itself. Doing this will not modify any behavior and is safe. When replacing `np.int`, you may wish to use e.g. `np.int64` or `np.int32` to specify the precision. If you wish to review your current use, check the release note link for additional information.\n",
      "Deprecated in NumPy 1.20; for more details and guidance: https://numpy.org/devdocs/release/1.20.0-notes.html#deprecations\n",
      "  dtype=np.int)\n"
     ]
    },
    {
     "name": "stdout",
     "output_type": "stream",
     "text": [
      "44.4\n",
      "432 256\n",
      "594 255\n",
      "162 183\n"
     ]
    }
   ],
   "source": [
    "#create a window with a title and two labels, both above a text field, where the user can enter the player\n",
    "#and the shot distance for the prediction\n",
    "root = Tk()\n",
    "root.title(\"Player and shot selection\")\n",
    "\n",
    "Label(text='Which player? (ex: Kobe Bryant, Derrick Rose)').pack(side=TOP,padx=10,pady=10)\n",
    "\n",
    "entry_player = Entry(root, width=10)\n",
    "entry_player.pack(side=TOP,padx=10,pady=10)\n",
    "\n",
    "Label(text='Which distance in ft? (ex: 5, 12)').pack(side=TOP,padx=20,pady=20)\n",
    "\n",
    "entry_shot = Entry(root, width=10)\n",
    "entry_shot.pack(side=TOP,padx=20,pady=20)\n",
    "\n",
    "\n",
    "def pred_on_ok():\n",
    "    \"\"\"\n",
    "    Uses the entered player name and entered distance to predict and print\n",
    "    the probability of the shot going in.\n",
    "\n",
    "            Parameters:\n",
    "                    None\n",
    "\n",
    "            Returns:\n",
    "                    None\n",
    "    \"\"\"\n",
    "    \n",
    "    name = entry_player.get()\n",
    "    distance = entry_shot.get()\n",
    "    prediction = shot_prediction(name, distance)\n",
    "    print(prediction)\n",
    "    #Label(text=prediction).pack(side=RIGHT, padx=20, pady=20)\n",
    "\n",
    "#create OK button to print the prediction when pressed\n",
    "Button(root, text='OK', command=pred_on_ok).pack(side=LEFT)\n",
    "\n",
    "\n",
    "#setting up a tkinter canvas\n",
    "w = Canvas(root, width=1000, height=1000)\n",
    "w.pack()\n",
    "\n",
    "#adding image of basketball court\n",
    "image = Image.open(\"/Users/zalipski/Desktop/Projekte/basketball/vis_tool/pict--half-basketball-court-basketball-courts-vector-stencils-library.png\")\n",
    "resize_image = image.resize((800, 600))\n",
    "img = ImageTk.PhotoImage(resize_image)\n",
    "\n",
    "w.create_image((500, 300), image = img)\n",
    "\n",
    "\n",
    "def getorigin_shot(eventorigin):\n",
    "    \"\"\"\n",
    "    Creates a red circle at the position of the mouse click for the shooter.\n",
    "\n",
    "            Parameters:\n",
    "                    eventorigin (event) : position of mouse click by the user\n",
    "\n",
    "            Returns:\n",
    "                    None\n",
    "    \"\"\"\n",
    "    \n",
    "    global x0,y0\n",
    "    x0 = eventorigin.x\n",
    "    y0 = eventorigin.y\n",
    "    print(x0,y0)\n",
    "    w.create_oval(x0, y0, x0+10, y0+10, fill=\"red\")\n",
    "    #w.bind(\"<Button 1>\", printcoords)\n",
    "#mouseclick event\n",
    "w.bind(\"<Button 1>\", getorigin_shot)\n",
    "\n",
    "# def getorigin_def(eventorigin):\n",
    "#    \"\"\"\n",
    "#    Creates a blue circle at the position of the mouse click for the defender.\n",
    "\n",
    "#            Parameters:\n",
    "#                    eventorigin (event) : position of mouse click by the user\n",
    "\n",
    "#            Returns:\n",
    "#                    None\n",
    "#    \"\"\"\n",
    "   \n",
    "#    global x1,y1\n",
    "#    x1 = eventorigin.x\n",
    "#    y1 = eventorigin.y\n",
    "#    print(x1,y1)\n",
    "#    w.create_oval(x1, y1, x1+10, y1+10, fill=\"blue\")\n",
    "#    #w.bind(\"<Button 1>\", printcoords)\n",
    "# #mouseclick event\n",
    "# w.bind(\"<Button 1>\", getorigin_def)\n",
    "\n",
    "\n",
    "# #coordinate transformation into distance from bucket\n",
    "# def printcoords(event):\n",
    "#    xmpx = xe-x0\n",
    "#    xm = xmt/xmpx\n",
    "#    ympx = ye-y0\n",
    "#    ym = -ymp/ympx\n",
    "\n",
    "#    #coordinate transformation\n",
    "#    newx = (event.x-x0)*(xm)+xc\n",
    "#    newy = (event.y-y0)*(ym)+yc\n",
    "\n",
    "#    #outputting x and y coords to console\n",
    "#    print (newx,newy)\n",
    "\n",
    "root.mainloop()"
   ]
  },
  {
   "cell_type": "code",
   "execution_count": 15,
   "metadata": {},
   "outputs": [
    {
     "name": "stderr",
     "output_type": "stream",
     "text": [
      "/Users/zalipski/opt/anaconda3/lib/python3.7/site-packages/sklearn/ensemble/base.py:158: DeprecationWarning: `np.int` is a deprecated alias for the builtin `int`. To silence this warning, use `int` by itself. Doing this will not modify any behavior and is safe. When replacing `np.int`, you may wish to use e.g. `np.int64` or `np.int32` to specify the precision. If you wish to review your current use, check the release note link for additional information.\n",
      "Deprecated in NumPy 1.20; for more details and guidance: https://numpy.org/devdocs/release/1.20.0-notes.html#deprecations\n",
      "  dtype=np.int)\n"
     ]
    },
    {
     "data": {
      "text/plain": [
       "'When the player Kobe Bryant takes a shot with a distance of 15 ft from the basket, the estimated probability of scoring is 44.4 %'"
      ]
     },
     "execution_count": 15,
     "metadata": {},
     "output_type": "execute_result"
    }
   ],
   "source": [
    "#text to be shown in the GUI after the prediction\n",
    "\"When the player {} takes a shot with a distance of {} ft from the basket, the estimated probability of scoring is {} %\".format(\"Kobe Bryant\", 15, shot_prediction(\"Kobe Bryant\", 15))"
   ]
  },
  {
   "cell_type": "markdown",
   "metadata": {},
   "source": [
    "## Putting the regression and the GUI together"
   ]
  },
  {
   "cell_type": "code",
   "execution_count": null,
   "metadata": {},
   "outputs": [],
   "source": []
  }
 ],
 "metadata": {
  "kernelspec": {
   "display_name": "Python 3",
   "language": "python",
   "name": "python3"
  },
  "language_info": {
   "codemirror_mode": {
    "name": "ipython",
    "version": 3
   },
   "file_extension": ".py",
   "mimetype": "text/x-python",
   "name": "python",
   "nbconvert_exporter": "python",
   "pygments_lexer": "ipython3",
   "version": "3.7.4"
  }
 },
 "nbformat": 4,
 "nbformat_minor": 2
}
