{
 "cells": [
  {
   "cell_type": "markdown",
   "metadata": {},
   "source": [
    "# Imports"
   ]
  },
  {
   "cell_type": "code",
   "execution_count": null,
   "metadata": {},
   "outputs": [],
   "source": [
    "#standard imports\n",
    "import pandas as pd\n",
    "from matplotlib import pyplot as plt\n",
    "import statsmodels.api as sm\n",
    "from sklearn.ensemble import RandomForestRegressor\n",
    "import numpy as np\n",
    "\n",
    "#GUI imports\n",
    "from tkinter import *\n",
    "from tkinter.filedialog import askopenfilename\n",
    "from tkinter import ttk\n",
    "from PIL import Image, ImageTk\n",
    "import tkinter.simpledialog\n",
    "from tkinter.messagebox import showinfo"
   ]
  },
  {
   "cell_type": "markdown",
   "metadata": {},
   "source": [
    "# Data"
   ]
  },
  {
   "cell_type": "code",
   "execution_count": null,
   "metadata": {},
   "outputs": [],
   "source": [
    "#read in data as csv file\n",
    "#year 2013\n",
    "joined13 = pd.read_csv(\"Data/joined_shots_2013.csv\")\n",
    "\n",
    "#year 2014\n",
    "joined14 = pd.read_csv(\"Data/joined_shots_2014.csv\")\n",
    "\n",
    "#put both joined csv files together\n",
    "joined = pd.concat([joined13, joined14], ignore_index = True)"
   ]
  },
  {
   "cell_type": "code",
   "execution_count": null,
   "metadata": {},
   "outputs": [],
   "source": [
    "#all available columns\n",
    "joined.columns"
   ]
  },
  {
   "cell_type": "code",
   "execution_count": null,
   "metadata": {},
   "outputs": [],
   "source": [
    "#number of different players in the dataset\n",
    "joined.PLAYER_ID.nunique()"
   ]
  },
  {
   "cell_type": "code",
   "execution_count": null,
   "metadata": {},
   "outputs": [],
   "source": [
    "joined.head(10)"
   ]
  },
  {
   "cell_type": "markdown",
   "metadata": {},
   "source": [
    "## Visualizations"
   ]
  },
  {
   "cell_type": "code",
   "execution_count": null,
   "metadata": {
    "scrolled": false
   },
   "outputs": [],
   "source": [
    "#visualize distributions of shot distance (when shot was successful)\n",
    "#and distance of the closest defender (when shot was successful)\n",
    "figure, axis = plt.subplots(2, 4)\n",
    "figure.tight_layout()\n",
    "\n",
    "axis[0, 0].boxplot(joined[\"SHOT_DISTANCE\"])\n",
    "axis[0, 0].set_title(\"Boxplot of shot distance\")\n",
    "\n",
    "axis[1, 0].hist(joined[\"SHOT_DISTANCE\"])\n",
    "axis[1, 0].set_title(\"Histogram of shot distance\")\n",
    "\n",
    "axis[0, 1].boxplot(joined[joined[\"SHOT_MADE_FLAG\"] == 1][\"SHOT_DISTANCE\"])\n",
    "axis[0, 1].set_title(\"Boxplot of distance of made shots\")\n",
    "\n",
    "axis[1, 1].hist(joined[joined[\"SHOT_MADE_FLAG\"] == 1][\"SHOT_DISTANCE\"])\n",
    "axis[1, 1].set_title(\"Histogram of distance of made shots\")\n",
    "\n",
    "axis[0, 2].boxplot(joined[\"CLOSE_DEF_DIST\"])\n",
    "axis[0, 2].set_title(\"Boxplot of distance of closest defender\")\n",
    "\n",
    "axis[1, 2].hist(joined[\"CLOSE_DEF_DIST\"])\n",
    "axis[1, 2].set_title(\"Histogram of distance of closest defender\")\n",
    "\n",
    "axis[0, 3].boxplot(joined[joined[\"SHOT_MADE_FLAG\"] == 1][\"CLOSE_DEF_DIST\"])\n",
    "axis[0, 3].set_title(\"Boxplot of distance of closest defender when shot was made\")\n",
    "\n",
    "axis[1, 3].hist(joined[joined[\"SHOT_MADE_FLAG\"] == 1][\"CLOSE_DEF_DIST\"])\n",
    "axis[1, 3].set_title(\"Histogram of distance of closest defender when shot was made\")"
   ]
  },
  {
   "cell_type": "markdown",
   "metadata": {},
   "source": [
    "## Player dictionary"
   ]
  },
  {
   "cell_type": "code",
   "execution_count": null,
   "metadata": {
    "scrolled": true
   },
   "outputs": [],
   "source": [
    "#create a dict that maps the player to his correct ID\n",
    "player_dict = {}\n",
    "\n",
    "for i in range(len(joined)):\n",
    "    if joined[\"PLAYER_ID\"][i] in player_dict:\n",
    "        pass\n",
    "    else:\n",
    "        player_dict[joined[\"PLAYER_ID\"][i]] = joined[\"PLAYER_NAME\"][i]"
   ]
  },
  {
   "cell_type": "code",
   "execution_count": null,
   "metadata": {},
   "outputs": [],
   "source": [
    "key_list = list(player_dict.keys())\n",
    "val_list = list(player_dict.values())\n",
    "\n",
    "def player_id(player):\n",
    "    \"\"\"\n",
    "    Returns the correct ID for the chosen player.\n",
    "\n",
    "            Parameters:\n",
    "                    player (str)    : name of the player\n",
    "\n",
    "            Returns:\n",
    "                    player_id (int) : ID of the player\n",
    "    \"\"\"\n",
    "    \n",
    "    position = val_list.index(player)\n",
    "    player_id = key_list[position]\n",
    "    return player_id"
   ]
  },
  {
   "cell_type": "markdown",
   "metadata": {},
   "source": [
    "# Regression"
   ]
  },
  {
   "cell_type": "markdown",
   "metadata": {},
   "source": [
    "## Simple Linear Regression"
   ]
  },
  {
   "cell_type": "code",
   "execution_count": null,
   "metadata": {},
   "outputs": [],
   "source": [
    "x = joined[[\"SHOT_DISTANCE\", \"PLAYER_ID\"]]\n",
    "y = joined[\"SHOT_MADE_FLAG\"]"
   ]
  },
  {
   "cell_type": "code",
   "execution_count": null,
   "metadata": {},
   "outputs": [],
   "source": [
    "#create a simple linear regression model and show its summary\n",
    "X = sm.add_constant(x)\n",
    "results = sm.OLS(y, X).fit()\n",
    "results.summary()"
   ]
  },
  {
   "cell_type": "markdown",
   "metadata": {},
   "source": [
    "## Random Forest"
   ]
  },
  {
   "cell_type": "code",
   "execution_count": null,
   "metadata": {},
   "outputs": [],
   "source": [
    "X_rf = joined[[\"SHOT_DISTANCE\", \"PLAYER_ID\"]]\n",
    "y_rf = joined[\"SHOT_MADE_FLAG\"]\n",
    "\n",
    "#create a random forest model and print its r-squared value\n",
    "regressor = RandomForestRegressor(n_estimators = 10, random_state = 0)\n",
    "randFor = regressor.fit(X_rf, y_rf)\n",
    "randFor.score(X_rf, y_rf)"
   ]
  },
  {
   "cell_type": "code",
   "execution_count": null,
   "metadata": {},
   "outputs": [],
   "source": [
    "def shot_prediction(player, shot_distance):\n",
    "    \"\"\"\n",
    "    Predicts the probability of a successful shot.\n",
    "\n",
    "            Parameters:\n",
    "                    player (str)          : name of the player\n",
    "                    shot_distance (int)   : distance of the shot in ft\n",
    "\n",
    "            Returns:\n",
    "                    pred_percentage (int) : probability of a successful shot\n",
    "    \"\"\"\n",
    "    \n",
    "    prediction = regressor.predict([[shot_distance, player_id(player)]])[0]\n",
    "    pred_percentage = round(prediction, 3) * 100\n",
    "    return pred_percentage"
   ]
  },
  {
   "cell_type": "code",
   "execution_count": null,
   "metadata": {},
   "outputs": [],
   "source": [
    "shot_prediction(\"Kobe Bryant\", 15)"
   ]
  },
  {
   "cell_type": "markdown",
   "metadata": {},
   "source": [
    "# GUI"
   ]
  },
  {
   "cell_type": "markdown",
   "metadata": {},
   "source": [
    "## Design of the GUI"
   ]
  },
  {
   "cell_type": "code",
   "execution_count": null,
   "metadata": {},
   "outputs": [],
   "source": [
    "def pred_on_ok():\n",
    "    \"\"\"\n",
    "    Uses the entered player name and entered distance to predict and displays\n",
    "    the probability of the shot going in.\n",
    "\n",
    "            Parameters:\n",
    "                    None\n",
    "\n",
    "            Returns:\n",
    "                    None\n",
    "    \"\"\"\n",
    "    \n",
    "    name = entry_player.get()\n",
    "    distance = entry_shot.get()\n",
    "    prediction = shot_prediction(name, distance)\n",
    "    showinfo(title='Information',\n",
    "            message=\"When the player {} takes a shot with a distance of {} ft from the basket,\" \\\n",
    "                     \"the estimated probability of scoring is {} %\".format(name, distance, prediction))\n",
    "\n",
    "\n",
    "def getorigin_shot(eventorigin):\n",
    "    \"\"\"\n",
    "    Creates a red circle at the position of the mouse click for the shooter.\n",
    "\n",
    "            Parameters:\n",
    "                    eventorigin (event) : position of mouse click by the user\n",
    "\n",
    "            Returns:\n",
    "                    None\n",
    "    \"\"\"\n",
    "    \n",
    "    global x0,y0\n",
    "    x0 = eventorigin.x\n",
    "    y0 = eventorigin.y\n",
    "    print(x0,y0)\n",
    "    if x0 >= 290 and x0 <= 700 and y0 >= 140 and y0 <= 450:\n",
    "        w.create_oval(x0, y0, x0+10, y0+10, fill=\"red\")\n",
    "    #w.bind(\"<Button 1>\", printcoords)\n",
    "\n",
    "    \n",
    "# def getorigin_def(eventorigin):\n",
    "#    \"\"\"\n",
    "#    Creates a blue circle at the position of the mouse click for the defender.\n",
    "\n",
    "#            Parameters:\n",
    "#                    eventorigin (event) : position of mouse click by the user\n",
    "\n",
    "#            Returns:\n",
    "#                    None\n",
    "#    \"\"\"\n",
    "   \n",
    "#    global x1,y1\n",
    "#    x1 = eventorigin.x\n",
    "#    y1 = eventorigin.y\n",
    "#    print(x1,y1)\n",
    "#    w.create_oval(x1, y1, x1+10, y1+10, fill=\"blue\")\n",
    "#    #w.bind(\"<Button 1>\", printcoords)\n",
    "# #mouseclick event\n",
    "# w.bind(\"<Button 1>\", getorigin_def)\n",
    "\n",
    "\n",
    "# #coordinate transformation into distance from bucket\n",
    "# def printcoords(event):\n",
    "#    xmpx = xe-x0\n",
    "#    xm = xmt/xmpx\n",
    "#    ympx = ye-y0\n",
    "#    ym = -ymp/ympx\n",
    "\n",
    "#    #coordinate transformation\n",
    "#    newx = (event.x-x0)*(xm)+xc\n",
    "#    newy = (event.y-y0)*(ym)+yc\n",
    "\n",
    "#    #outputting x and y coords to console\n",
    "#    print (newx,newy)\n",
    "\n",
    "\n",
    "#create a window with a title and two labels, both above a text field, where the user can enter the player\n",
    "#and the shot distance for the prediction\n",
    "root = Tk()\n",
    "root.title(\"Player and shot selection\")\n",
    "\n",
    "Label(text='Which player? (ex: Kobe Bryant, Derrick Rose)').pack(side=TOP,padx=10,pady=10)\n",
    "\n",
    "entry_player = Entry(root, width=10)\n",
    "entry_player.pack(side=TOP,padx=10,pady=10)\n",
    "\n",
    "Label(text='Which distance in ft? (ex: 5, 12)').pack(side=TOP,padx=20,pady=20)\n",
    "\n",
    "entry_shot = Entry(root, width=10)\n",
    "entry_shot.pack(side=TOP,padx=20,pady=20)\n",
    "\n",
    "\n",
    "#create OK button to print the prediction when pressed\n",
    "Button(root, text='OK', command=pred_on_ok).pack(side=LEFT)\n",
    "\n",
    "\n",
    "#setting up a tkinter canvas\n",
    "w = Canvas(root, width=1000, height=1000)\n",
    "w.pack()\n",
    "\n",
    "#adding image of basketball court\n",
    "image = Image.open(\"pict--half-basketball-court-basketball-courts-vector-stencils-library.png\")\n",
    "resize_image = image.resize((800, 400))\n",
    "img = ImageTk.PhotoImage(resize_image)\n",
    "\n",
    "w.create_image((500, 300), image = img)\n",
    "\n",
    "\n",
    "#mouseclick event\n",
    "w.bind(\"<Button 1>\", getorigin_shot)\n",
    "\n",
    "\n",
    "root.mainloop()"
   ]
  }
 ],
 "metadata": {
  "kernelspec": {
   "display_name": "Python 3",
   "language": "python",
   "name": "python3"
  },
  "language_info": {
   "codemirror_mode": {
    "name": "ipython",
    "version": 3
   },
   "file_extension": ".py",
   "mimetype": "text/x-python",
   "name": "python",
   "nbconvert_exporter": "python",
   "pygments_lexer": "ipython3",
   "version": "3.7.4"
  }
 },
 "nbformat": 4,
 "nbformat_minor": 2
}
