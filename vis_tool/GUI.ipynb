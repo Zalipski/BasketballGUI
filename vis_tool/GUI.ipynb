{
 "cells": [
  {
   "cell_type": "markdown",
   "metadata": {},
   "source": [
    "The goal of this project is to build a \"successful shot probability\" GUI with Python, that allows a user to choose a NBA basketball player to throw the ball as well as the position from where the player shoots the basketball and the other defends the shot. After choosing those parameters, the GUI then shows the probability of the shot to go in. For that, the GUI contains an abstract version of one side of a basketball court where the user can choose the positions of both players by clicking on the court, the shooter can be selected via a dropdown menu. The data I use contains every shot that was taken in the games of the 2013 and 2014 NBA seasons, which I got from https://github.com/hwchase17/sportvu."
   ]
  },
  {
   "cell_type": "markdown",
   "metadata": {},
   "source": [
    "# Imports"
   ]
  },
  {
   "cell_type": "code",
   "execution_count": null,
   "metadata": {},
   "outputs": [],
   "source": [
    "#standard imports\n",
    "import pandas as pd\n",
    "from matplotlib import pyplot as plt\n",
    "import seaborn as sns\n",
    "import statsmodels.api as sm\n",
    "from sklearn.ensemble import RandomForestRegressor\n",
    "import numpy as np\n",
    "import math\n",
    "\n",
    "#GUI imports\n",
    "import tkinter as tk\n",
    "from tkinter.filedialog import askopenfilename\n",
    "from tkinter import ttk\n",
    "from PIL import Image, ImageTk\n",
    "import tkinter.simpledialog\n",
    "from tkinter.messagebox import showinfo"
   ]
  },
  {
   "cell_type": "markdown",
   "metadata": {},
   "source": [
    "# Data"
   ]
  },
  {
   "cell_type": "code",
   "execution_count": null,
   "metadata": {},
   "outputs": [],
   "source": [
    "#read in data as csv file\n",
    "#year 2013\n",
    "joined13 = pd.read_csv(\"Data/joined_shots_2013.csv\")\n",
    "\n",
    "#year 2014\n",
    "joined14 = pd.read_csv(\"Data/joined_shots_2014.csv\")\n",
    "\n",
    "#put both joined csv files together\n",
    "joined = pd.concat([joined13, joined14], ignore_index = True)"
   ]
  },
  {
   "cell_type": "code",
   "execution_count": null,
   "metadata": {},
   "outputs": [],
   "source": [
    "#all available columns\n",
    "joined.columns"
   ]
  },
  {
   "cell_type": "code",
   "execution_count": null,
   "metadata": {
    "scrolled": false
   },
   "outputs": [],
   "source": [
    "joined.head(10)"
   ]
  },
  {
   "cell_type": "markdown",
   "metadata": {},
   "source": [
    "There are 576 different IDs of players that took a shot in the dataset, but only different 575 players."
   ]
  },
  {
   "cell_type": "code",
   "execution_count": null,
   "metadata": {},
   "outputs": [],
   "source": [
    "#number of different players in the dataset\n",
    "print(\"Number of different IDs: \" + str(joined.PLAYER_ID.nunique()))\n",
    "print(\"Number of different players: \" + str(joined.PLAYER_NAME.nunique()))"
   ]
  },
  {
   "cell_type": "markdown",
   "metadata": {},
   "source": [
    "After adding all unique combinations of players with their ID to a list, a quick check of those combinations identified the player Tony Mitchell as the player with two IDs. Mitchell played for the Detroit Pistons in the 2013-14 season. He was waived during the season and later reassigned, which could be the reason why he has two IDs."
   ]
  },
  {
   "cell_type": "code",
   "execution_count": null,
   "metadata": {
    "scrolled": true
   },
   "outputs": [],
   "source": [
    "player_list2 = []\n",
    "for player in range(len(joined)):\n",
    "    if joined[\"PLAYER_NAME\"][player] + \" \" + str(joined[\"PLAYER_ID\"][player]) not in player_list2:\n",
    "        player_list2.append(joined[\"PLAYER_NAME\"][player] + \" \" + str(joined[\"PLAYER_ID\"][player]))\n",
    "player_list2.sort()"
   ]
  },
  {
   "cell_type": "code",
   "execution_count": null,
   "metadata": {},
   "outputs": [],
   "source": [
    "#create list of all player names for the dropdown menu in the GUI\n",
    "player_list = []\n",
    "for name in joined[\"PLAYER_NAME\"]:\n",
    "    if name not in player_list:\n",
    "        player_list.append(name)\n",
    "player_list.sort()"
   ]
  },
  {
   "cell_type": "markdown",
   "metadata": {},
   "source": [
    "## Visualizations"
   ]
  },
  {
   "cell_type": "code",
   "execution_count": null,
   "metadata": {},
   "outputs": [],
   "source": [
    "sns.set()"
   ]
  },
  {
   "cell_type": "markdown",
   "metadata": {},
   "source": [
    "### Kobe vs Dirk visualizations"
   ]
  },
  {
   "cell_type": "code",
   "execution_count": null,
   "metadata": {},
   "outputs": [],
   "source": [
    "#create df that contains only shot entries by Kobe and Dirk\n",
    "kd_df = joined.loc[(joined[\"PLAYER_NAME\"] == \"Kobe Bryant\") | (joined[\"PLAYER_NAME\"] == \"Dirk Nowitzki\")]"
   ]
  },
  {
   "cell_type": "code",
   "execution_count": null,
   "metadata": {
    "scrolled": false
   },
   "outputs": [],
   "source": [
    "fig_kd, axis_kd = plt.subplots(2, 2)\n",
    "fig_kd.tight_layout()\n",
    "\n",
    "#shot distance by seconds left on shot clock\n",
    "sns.jointplot(data = kd_df[kd_df[\"PLAYER_NAME\"] == \"Kobe Bryant\"], x = \"SHOT_DISTANCE\", y = \"SHOT_CLOCK\", alpha = 0.5, ax = axis_kd[0, 0])\n",
    "sns.jointplot(data = kd_df[kd_df[\"PLAYER_NAME\"] == \"Dirk Nowitzki\"], x = \"SHOT_DISTANCE\", y = \"SHOT_CLOCK\", alpha = 0.5, ax = axis_kd[0, 1])\n",
    "\n",
    "#location of shots\n",
    "sns.jointplot(data = kd_df[kd_df[\"PLAYER_NAME\"] == \"Kobe Bryant\"], x = \"LOC_X\", y = \"LOC_Y\", alpha = 0.5, ax = axis_kd[1, 0])\n",
    "sns.jointplot(data = kd_df[kd_df[\"PLAYER_NAME\"] == \"Dirk Nowitzki\"], x = \"LOC_X\", y = \"LOC_Y\", alpha = 0.5, ax = axis_kd[1, 1])\n",
    "\n",
    "plt.show()"
   ]
  },
  {
   "cell_type": "markdown",
   "metadata": {},
   "source": [
    "### General visualizations"
   ]
  },
  {
   "cell_type": "code",
   "execution_count": null,
   "metadata": {},
   "outputs": [],
   "source": [
    "#shot locations\n",
    "sns.jointplot(data = joined, x = \"LOC_X\", y = \"LOC_Y\", alpha = 0.5)\n",
    "plt.show()"
   ]
  },
  {
   "cell_type": "code",
   "execution_count": null,
   "metadata": {
    "scrolled": false
   },
   "outputs": [],
   "source": [
    "#visualize distributions of shot distance (when shot was successful)\n",
    "#and distance of the closest defender (when shot was successful)\n",
    "figure_gen, axis_gen = plt.subplots(2, 4, figsize = (12, 5))\n",
    "figure_gen.tight_layout()\n",
    "\n",
    "sns.boxplot(data = joined, x = \"SHOT_DISTANCE\", ax = axis_gen[0, 0]).set(title = \"Shot distance\")\n",
    "\n",
    "sns.histplot(joined[\"SHOT_DISTANCE\"], ax = axis_gen[1, 0])\n",
    "\n",
    "sns.boxplot(x = joined[joined[\"SHOT_MADE_FLAG\"] == 1][\"SHOT_DISTANCE\"], ax = axis_gen[0, 1]).set(title = \"Shot distance of made shots\")\n",
    "\n",
    "sns.histplot(joined[joined[\"SHOT_MADE_FLAG\"] == 1][\"SHOT_DISTANCE\"], ax = axis_gen[1, 1])\n",
    "\n",
    "sns.boxplot(data = joined, x = \"CLOSE_DEF_DIST\", ax = axis_gen[0, 2]).set(title = \"Closest defender distance\")\n",
    "\n",
    "sns.histplot(joined[\"CLOSE_DEF_DIST\"], ax = axis_gen[1, 2])\n",
    "\n",
    "sns.boxplot(x = joined[joined[\"SHOT_MADE_FLAG\"] == 1][\"CLOSE_DEF_DIST\"], ax = axis_gen[0, 3]).set(title = \"Closest defender distance of made shots\")\n",
    "\n",
    "sns.histplot(joined[joined[\"SHOT_MADE_FLAG\"] == 1][\"CLOSE_DEF_DIST\"], ax = axis_gen[1, 3])\n",
    "\n",
    "plt.show()"
   ]
  },
  {
   "cell_type": "markdown",
   "metadata": {},
   "source": [
    "## Player dictionary"
   ]
  },
  {
   "cell_type": "code",
   "execution_count": null,
   "metadata": {
    "scrolled": true
   },
   "outputs": [],
   "source": [
    "#create a dict that maps the player to his correct ID\n",
    "player_dict = {}\n",
    "\n",
    "for i in range(len(joined)):\n",
    "    if joined[\"PLAYER_ID\"][i] in player_dict:\n",
    "        pass\n",
    "    else:\n",
    "        player_dict[joined[\"PLAYER_ID\"][i]] = joined[\"PLAYER_NAME\"][i]"
   ]
  },
  {
   "cell_type": "code",
   "execution_count": null,
   "metadata": {},
   "outputs": [],
   "source": [
    "key_list = list(player_dict.keys())\n",
    "val_list = list(player_dict.values())\n",
    "\n",
    "def player_id(player):\n",
    "    \"\"\"\n",
    "    Returns the correct ID for the chosen player.\n",
    "\n",
    "            Parameters:\n",
    "                    player (str)    : name of the player\n",
    "\n",
    "            Returns:\n",
    "                    player_id (int) : ID of the player\n",
    "    \"\"\"\n",
    "    \n",
    "    position = val_list.index(player)\n",
    "    player_id = key_list[position]\n",
    "    return player_id"
   ]
  },
  {
   "cell_type": "markdown",
   "metadata": {},
   "source": [
    "# Regression"
   ]
  },
  {
   "cell_type": "markdown",
   "metadata": {},
   "source": [
    "I tried both simple linear regression and random forest for building the model. Although the linear regression is slighlty faster to fit, I chose to use random forest because its r-squared value (0.53) is much larger than that of the linear regression model (0.05)."
   ]
  },
  {
   "cell_type": "markdown",
   "metadata": {},
   "source": [
    "## Simple Linear Regression"
   ]
  },
  {
   "cell_type": "code",
   "execution_count": null,
   "metadata": {},
   "outputs": [],
   "source": [
    "x = joined[[\"SHOT_DISTANCE\", \"PLAYER_ID\", \"CLOSE_DEF_DIST\"]]\n",
    "y = joined[\"SHOT_MADE_FLAG\"]"
   ]
  },
  {
   "cell_type": "code",
   "execution_count": null,
   "metadata": {},
   "outputs": [],
   "source": [
    "#create a simple linear regression model and show its summary\n",
    "X = sm.add_constant(x)\n",
    "results = sm.OLS(y, X).fit()\n",
    "results.summary()"
   ]
  },
  {
   "cell_type": "markdown",
   "metadata": {},
   "source": [
    "## Random Forest"
   ]
  },
  {
   "cell_type": "code",
   "execution_count": null,
   "metadata": {},
   "outputs": [],
   "source": [
    "X_rf = joined[[\"SHOT_DISTANCE\", \"PLAYER_ID\", \"CLOSE_DEF_DIST\"]]\n",
    "y_rf = joined[\"SHOT_MADE_FLAG\"]\n",
    "\n",
    "#create a random forest model and print its r-squared value\n",
    "regressor = RandomForestRegressor(n_estimators = 10, random_state = 0)\n",
    "randFor = regressor.fit(X_rf, y_rf)\n",
    "randFor.score(X_rf, y_rf)"
   ]
  },
  {
   "cell_type": "code",
   "execution_count": null,
   "metadata": {},
   "outputs": [],
   "source": [
    "def shot_prediction(player, shot_distance, def_dist):\n",
    "    \"\"\"\n",
    "    Predicts the probability of a successful shot.\n",
    "\n",
    "            Parameters:\n",
    "                    player (str)          : name of the player\n",
    "                    shot_distance (int)   : distance of the shot in ft\n",
    "\n",
    "            Returns:\n",
    "                    pred_percentage (int) : probability of a successful shot\n",
    "    \"\"\"\n",
    "    \n",
    "    prediction = regressor.predict([[shot_distance, player_id(player), def_dist]])[0]\n",
    "    pred_percentage = round(prediction, 3) * 100\n",
    "    return pred_percentage"
   ]
  },
  {
   "cell_type": "code",
   "execution_count": null,
   "metadata": {},
   "outputs": [],
   "source": [
    "#example of the shot_prediction function\n",
    "shot_prediction(\"Kobe Bryant\", 15, 1.5)"
   ]
  },
  {
   "cell_type": "markdown",
   "metadata": {},
   "source": [
    "# GUI"
   ]
  },
  {
   "cell_type": "markdown",
   "metadata": {},
   "source": [
    "## Functions for the GUI"
   ]
  },
  {
   "cell_type": "code",
   "execution_count": null,
   "metadata": {
    "scrolled": false
   },
   "outputs": [],
   "source": [
    "def pred_on_ok():\n",
    "    \"\"\"\n",
    "    Uses the entered player name and entered distance to predict and displays\n",
    "    the probability of the shot going in.\n",
    "\n",
    "            Parameters:\n",
    "                    None\n",
    "\n",
    "            Returns:\n",
    "                    None\n",
    "    \"\"\"\n",
    "    \n",
    "    name = chosen_player.get()\n",
    "    dist_to_net = get_dist(295, 125, x_player, y_player)\n",
    "    dist_to_def = get_dist(x_player, y_player, x_def, y_def)\n",
    "    prediction = shot_prediction(name, dist_to_net, dist_to_def)\n",
    "    showinfo(title='Information',\n",
    "             message=\"When the player {} takes a shot with a distance of {} ft from the basket \" \\\n",
    "                     \"and a distance of {} ft to the closest defender, \" \\\n",
    "                     \"the estimated probability of scoring is {} %\".format(name, dist_to_net, dist_to_def, prediction))\n",
    "\n",
    "def getorigin_shot(eventorigin):\n",
    "    \"\"\"\n",
    "    Creates a red circle at the position of the mouse click for the shooter.\n",
    "\n",
    "            Parameters:\n",
    "                    eventorigin (event) : position of mouse click by the user\n",
    "\n",
    "            Returns:\n",
    "                    None\n",
    "    \"\"\"\n",
    "    \n",
    "    global x_player, y_player, player_pos, net_dist_var\n",
    "    x_player = eventorigin.x\n",
    "    y_player = eventorigin.y\n",
    "    #restrict \"clickable\" space to edges of the basketball court image\n",
    "    if x_player >= 70 and x_player <= 520 and y_player >= 83 and y_player <= 506:\n",
    "        #print(x_player, y_player)\n",
    "        #print(get_dist(295, 125, x_player, y_player))\n",
    "        w.delete(player_pos)\n",
    "        player_pos = w.create_oval(x_player, y_player, x_player+10, y_player+10, fill = \"red\")\n",
    "        net_dist_var.set(str(get_dist(295, 125, x_player, y_player)) + \" ft\")\n",
    "\n",
    "def getorigin_def(eventorigin):\n",
    "    \"\"\"\n",
    "    Creates a blue circle at the position of the mouse click for the defender.\n",
    "\n",
    "            Parameters:\n",
    "                    eventorigin (event) : position of mouse click by the user\n",
    "\n",
    "            Returns:\n",
    "                    None\n",
    "    \"\"\"\n",
    "   \n",
    "    global x_def, y_def, def_pos\n",
    "    x_def = eventorigin.x\n",
    "    y_def = eventorigin.y\n",
    "    #restrict \"clickable\" space to edges of the basketball court image\n",
    "    if x_def >= 70 and x_def <= 520 and y_def >= 83 and y_def <= 506:\n",
    "        #print(x_def, y_def)\n",
    "        #print(get_dist(x_player, y_player, x_def, y_def))\n",
    "        w.delete(def_pos)\n",
    "        def_pos = w.create_oval(x_def, y_def, x_def+10, y_def+10, fill = \"blue\")\n",
    "        def_dist_var.set(str(get_dist(x_player, y_player, x_def, y_def)) + \" ft\")\n",
    "\n",
    "def get_dist(x0, y0, x1, y1):\n",
    "    \"\"\"\n",
    "    Transforms the distance of two coordinates to the distance in ft by using the euclidean distance and \n",
    "    dividing the result by 9, because with the size of the court in the GUI, 9 px equal 1 ft.\n",
    "\n",
    "            Parameters:\n",
    "                        x0 (int)  : x-coordinate of the first point\n",
    "                        y0 (int)  : y-coordinate of the first point\n",
    "                        x1 (int)  : x-coordinate of the second point\n",
    "                        y1 (int)  : y-coordinate of the second point\n",
    "\n",
    "            Returns:\n",
    "                    ft_dist (int) : distance bewteen the two coordinates in ft\n",
    "    \"\"\"\n",
    "    \n",
    "    px_dist = math.sqrt((x0 - x1)**2 + (y0 - y1)**2)\n",
    "    ft_dist = round(px_dist/9, 2)\n",
    "    return ft_dist\n",
    "\n",
    "def change_label_net(*args):\n",
    "    \"\"\"\n",
    "    Changes the coordinate distance to the net to the distance in ft.\n",
    "\n",
    "            Parameters:\n",
    "                    *args (arguments) : position of mouse click by the user\n",
    "\n",
    "            Returns:\n",
    "                    None\n",
    "    \"\"\"\n",
    "    \n",
    "    net_dist_label.config(text = net_dist_text + net_dist_var.get())\n",
    "\n",
    "def change_label_def(*args):\n",
    "    \"\"\"\n",
    "    Changes the coordinate distance to the net to the distance in ft.\n",
    "\n",
    "            Parameters:\n",
    "                    *args (arguments) : position of mouse click by the user\n",
    "\n",
    "            Returns:\n",
    "                    None\n",
    "    \"\"\"\n",
    "    \n",
    "    def_dist_label.config(text = def_dist_text + def_dist_var.get())\n",
    "    \n",
    "#if the checkbox is unselected, the user will be able to adjust the shooters position,\n",
    "#otherwise the defenders position\n",
    "def checkbox_choosing():\n",
    "    if checkbox_var.get() == 0:\n",
    "        w.bind(\"<Button 1>\", getorigin_shot)\n",
    "    else:\n",
    "        w.bind(\"<Button 1>\", getorigin_def)"
   ]
  },
  {
   "cell_type": "markdown",
   "metadata": {},
   "source": [
    "## Design of the GUI"
   ]
  },
  {
   "cell_type": "code",
   "execution_count": null,
   "metadata": {
    "scrolled": false
   },
   "outputs": [],
   "source": [
    "#create a window with a title and two labels, both above a text field, where the user can enter the player\n",
    "#and the shot distance for the prediction\n",
    "root = tk.Tk()\n",
    "root.title(\"Player and shot selection\")\n",
    "root.resizable(width=False, height = False)\n",
    "root.geometry(\"1200x700\")\n",
    "\n",
    "#description label\n",
    "descr_label = ttk.Label(root, text = \"This GUI allows you to click anywhere on the basketball court to select the \" \\\n",
    "                        \"position \\n of the shooter and the defender. \"\n",
    "                        \"Check the 'Defender' box to be able to set \\n the defenders position. \\n\" \\\n",
    "                        \"To obtain the probability of a successful shot, click on the 'Get probability' button \\n\" \\\n",
    "                        \"after selecting a name and the positions of both players.\")\n",
    "descr_label.place(x = 610, y = 435)\n",
    "\n",
    "ttk.Label(text='Player selection (ex: Kobe Bryant, Dirk Nowitzki)').place(x=610, y=155)\n",
    "\n",
    "#create dropdown list of all available players \n",
    "chosen_player = tk.StringVar()\n",
    "players = ttk.OptionMenu(root, chosen_player, *player_list)\n",
    "chosen_player.set(player_list[0])\n",
    "players.place(x = 610, y = 185)\n",
    "\n",
    "#show the chosen distance of the shooter to the net as a label\n",
    "net_dist_var = tk.StringVar()\n",
    "net_dist_label = ttk.Label(root)\n",
    "net_dist_text = \"Distance of the shooting player to the net: \"\n",
    "net_dist_label.config(text = net_dist_text) #empty label\n",
    "net_dist_var.trace('w', change_label_net)\n",
    "net_dist_label.place(x = 610, y = 235)\n",
    "\n",
    "#show the chosen distance of the defender to the shooter as a label\n",
    "def_dist_var = tk.StringVar()\n",
    "def_dist_label = ttk.Label(root)\n",
    "def_dist_text = \"Distance of the shooting player to the closest defender: \"\n",
    "def_dist_label.config(text = def_dist_text) #empty label\n",
    "def_dist_var.trace('w', change_label_def)\n",
    "def_dist_label.place(x = 610, y = 285)\n",
    "\n",
    "#create OK button to print the prediction when pressed\n",
    "ttk.Button(root, text = 'Get probability', command = pred_on_ok).place(x=610, y=385)\n",
    "\n",
    "#setting up a tkinter canvas\n",
    "w = tk.Canvas(root, width = 600, height = 550)\n",
    "w.pack(side = \"left\")\n",
    "\n",
    "#adding image of basketball court\n",
    "image = Image.open(\"Bball_court.png\")\n",
    "resize_image = image.resize((464, 438))\n",
    "img = ImageTk.PhotoImage(resize_image)\n",
    "w.create_image((300, 300), image = img)\n",
    "\n",
    "#define empty variables for the player and defender positions\n",
    "player_pos = tk.IntVar()\n",
    "def_pos = tk.IntVar()\n",
    "\n",
    "#define empty variables for the checkbox value\n",
    "checkbox_var = tk.IntVar()\n",
    "\n",
    "#define checkbox for the option to adjust defender position\n",
    "def_checkbox = ttk.Checkbutton(root, text = \"Defender\", variable = checkbox_var, onvalue = 1, offvalue = 0, command = checkbox_choosing)\n",
    "def_checkbox.place(x = 610, y = 335)\n",
    "\n",
    "#start with option to adjust the position of the shooter\n",
    "w.bind(\"<Button 1>\", getorigin_shot)\n",
    "\n",
    "root.mainloop()"
   ]
  }
 ],
 "metadata": {
  "kernelspec": {
   "display_name": "Python 3",
   "language": "python",
   "name": "python3"
  },
  "language_info": {
   "codemirror_mode": {
    "name": "ipython",
    "version": 3
   },
   "file_extension": ".py",
   "mimetype": "text/x-python",
   "name": "python",
   "nbconvert_exporter": "python",
   "pygments_lexer": "ipython3",
   "version": "3.7.4"
  }
 },
 "nbformat": 4,
 "nbformat_minor": 2
}
